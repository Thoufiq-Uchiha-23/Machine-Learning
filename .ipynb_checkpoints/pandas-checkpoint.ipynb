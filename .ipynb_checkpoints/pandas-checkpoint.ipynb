{
 "cells": [
  {
   "cell_type": "code",
   "execution_count": 26,
   "id": "dd4c9292-e694-4bbe-a209-b6a9088f7fcf",
   "metadata": {},
   "outputs": [
    {
     "name": "stdout",
     "output_type": "stream",
     "text": [
      "Requirement already satisfied: pandas in c:\\users\\user\\anaconda3\\lib\\site-packages (2.2.2)\n",
      "Requirement already satisfied: numpy>=1.26.0 in c:\\users\\user\\anaconda3\\lib\\site-packages (from pandas) (1.26.4)\n",
      "Requirement already satisfied: python-dateutil>=2.8.2 in c:\\users\\user\\anaconda3\\lib\\site-packages (from pandas) (2.9.0.post0)\n",
      "Requirement already satisfied: pytz>=2020.1 in c:\\users\\user\\anaconda3\\lib\\site-packages (from pandas) (2024.1)\n",
      "Requirement already satisfied: tzdata>=2022.7 in c:\\users\\user\\anaconda3\\lib\\site-packages (from pandas) (2023.3)\n",
      "Requirement already satisfied: six>=1.5 in c:\\users\\user\\anaconda3\\lib\\site-packages (from python-dateutil>=2.8.2->pandas) (1.16.0)\n"
     ]
    }
   ],
   "source": [
    "!pip install pandas"
   ]
  },
  {
   "cell_type": "code",
   "execution_count": 28,
   "id": "f7ae6de7-6642-4556-b9a4-09b76e314b90",
   "metadata": {},
   "outputs": [],
   "source": [
    "import pandas as pd"
   ]
  },
  {
   "cell_type": "code",
   "execution_count": 28,
   "id": "80601cc5-fd91-4a35-a30a-7868bff2da2a",
   "metadata": {},
   "outputs": [],
   "source": [
    "pd."
   ]
  },
  {
   "cell_type": "code",
   "execution_count": 11,
   "id": "1f46ae76-3fb8-46df-b9d0-f8e5964e6cf9",
   "metadata": {},
   "outputs": [],
   "source": [
    "#1. Create"
   ]
  },
  {
   "cell_type": "code",
   "execution_count": 13,
   "id": "b52343b6-0b56-4655-a358-38e7fa465edc",
   "metadata": {},
   "outputs": [],
   "source": [
    "#1.1.Create from a CSV"
   ]
  },
  {
   "cell_type": "code",
   "execution_count": 41,
   "id": "9c851e8c-b4a9-4c7c-86ee-0755c8c23188",
   "metadata": {},
   "outputs": [],
   "source": [
    "df = pd.read_csv('../practice_panda.csv')"
   ]
  },
  {
   "cell_type": "code",
   "execution_count": 16,
   "id": "12ade5a7-1762-44af-b040-ed5dddce21e5",
   "metadata": {},
   "outputs": [],
   "source": [
    "#1.2.Create from a Dictionary"
   ]
  },
  {
   "cell_type": "code",
   "execution_count": 57,
   "id": "12273736-3625-4eb3-91cd-d195b76f5113",
   "metadata": {},
   "outputs": [],
   "source": [
    "tempdict = {\n",
    "    'column1': [1, 2, 3],\n",
    "    'column2': [4, 5, 6],\n",
    "    'column3': [7, 8, 9]\n",
    "}"
   ]
  },
  {
   "cell_type": "code",
   "execution_count": 59,
   "id": "b9f07f1e-89b9-4dfd-9c36-3e423a496982",
   "metadata": {},
   "outputs": [],
   "source": [
    "dictdf = pd.DataFrame.from_dict(tempdict)"
   ]
  },
  {
   "cell_type": "code",
   "execution_count": 20,
   "id": "40a56331-0a26-49b2-b9f7-adb80bde9c6d",
   "metadata": {},
   "outputs": [],
   "source": [
    "#2. Read"
   ]
  },
  {
   "cell_type": "code",
   "execution_count": 22,
   "id": "87e75397-d923-4d22-b6ef-58b91fc1ac76",
   "metadata": {},
   "outputs": [],
   "source": [
    "#2.1.Show Top 5 and Bottom 5 Rows"
   ]
  },
  {
   "cell_type": "code",
   "execution_count": 47,
   "id": "71d90bf4-2b91-4f29-a1e1-4431db9cd243",
   "metadata": {},
   "outputs": [
    {
     "data": {
      "text/html": [
       "<div>\n",
       "<style scoped>\n",
       "    .dataframe tbody tr th:only-of-type {\n",
       "        vertical-align: middle;\n",
       "    }\n",
       "\n",
       "    .dataframe tbody tr th {\n",
       "        vertical-align: top;\n",
       "    }\n",
       "\n",
       "    .dataframe thead th {\n",
       "        text-align: right;\n",
       "    }\n",
       "</style>\n",
       "<table border=\"1\" class=\"dataframe\">\n",
       "  <thead>\n",
       "    <tr style=\"text-align: right;\">\n",
       "      <th></th>\n",
       "      <th>Duration</th>\n",
       "      <th>Date</th>\n",
       "      <th>Pulse</th>\n",
       "      <th>Maxpulse</th>\n",
       "      <th>Calories</th>\n",
       "    </tr>\n",
       "  </thead>\n",
       "  <tbody>\n",
       "    <tr>\n",
       "      <th>0</th>\n",
       "      <td>60</td>\n",
       "      <td>'2020/12/01'</td>\n",
       "      <td>110</td>\n",
       "      <td>130</td>\n",
       "      <td>409.1</td>\n",
       "    </tr>\n",
       "    <tr>\n",
       "      <th>1</th>\n",
       "      <td>60</td>\n",
       "      <td>'2020/12/02'</td>\n",
       "      <td>117</td>\n",
       "      <td>145</td>\n",
       "      <td>479.0</td>\n",
       "    </tr>\n",
       "    <tr>\n",
       "      <th>2</th>\n",
       "      <td>60</td>\n",
       "      <td>'2020/12/03'</td>\n",
       "      <td>103</td>\n",
       "      <td>135</td>\n",
       "      <td>340.0</td>\n",
       "    </tr>\n",
       "    <tr>\n",
       "      <th>3</th>\n",
       "      <td>45</td>\n",
       "      <td>'2020/12/04'</td>\n",
       "      <td>109</td>\n",
       "      <td>175</td>\n",
       "      <td>282.4</td>\n",
       "    </tr>\n",
       "    <tr>\n",
       "      <th>4</th>\n",
       "      <td>45</td>\n",
       "      <td>'2020/12/05'</td>\n",
       "      <td>117</td>\n",
       "      <td>148</td>\n",
       "      <td>406.0</td>\n",
       "    </tr>\n",
       "  </tbody>\n",
       "</table>\n",
       "</div>"
      ],
      "text/plain": [
       "   Duration          Date  Pulse  Maxpulse  Calories\n",
       "0        60  '2020/12/01'    110       130     409.1\n",
       "1        60  '2020/12/02'    117       145     479.0\n",
       "2        60  '2020/12/03'    103       135     340.0\n",
       "3        45  '2020/12/04'    109       175     282.4\n",
       "4        45  '2020/12/05'    117       148     406.0"
      ]
     },
     "execution_count": 47,
     "metadata": {},
     "output_type": "execute_result"
    }
   ],
   "source": [
    "df.head()"
   ]
  },
  {
   "cell_type": "code",
   "execution_count": null,
   "id": "f70299de-e708-446c-b06b-67e8fcd6ee44",
   "metadata": {},
   "outputs": [],
   "source": []
  },
  {
   "cell_type": "code",
   "execution_count": null,
   "id": "eab394f5-b053-45b6-868f-e5435dd48986",
   "metadata": {},
   "outputs": [],
   "source": []
  }
 ],
 "metadata": {
  "kernelspec": {
   "display_name": "Python 3 (ipykernel)",
   "language": "python",
   "name": "python3"
  },
  "language_info": {
   "codemirror_mode": {
    "name": "ipython",
    "version": 3
   },
   "file_extension": ".py",
   "mimetype": "text/x-python",
   "name": "python",
   "nbconvert_exporter": "python",
   "pygments_lexer": "ipython3",
   "version": "3.12.4"
  }
 },
 "nbformat": 4,
 "nbformat_minor": 5
}
