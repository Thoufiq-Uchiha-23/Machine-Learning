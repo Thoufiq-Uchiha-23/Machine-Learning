{
 "cells": [
  {
   "cell_type": "code",
   "execution_count": 1,
   "id": "e63ecaa5-4979-4a07-aca0-147d18907634",
   "metadata": {},
   "outputs": [
    {
     "name": "stdout",
     "output_type": "stream",
     "text": [
      "Requirement already satisfied: numpy in c:\\users\\user\\anaconda3\\lib\\site-packages (1.26.4)Note: you may need to restart the kernel to use updated packages.\n",
      "\n"
     ]
    }
   ],
   "source": [
    "pip install numpy"
   ]
  },
  {
   "cell_type": "code",
   "execution_count": 3,
   "id": "51f2b1d6-bbc9-4652-b85e-2f6da55d0978",
   "metadata": {},
   "outputs": [
    {
     "name": "stdout",
     "output_type": "stream",
     "text": [
      "Requirement already satisfied: numpy in c:\\users\\user\\anaconda3\\lib\\site-packages (1.26.4)\n"
     ]
    }
   ],
   "source": [
    "!pip install numpy"
   ]
  },
  {
   "cell_type": "code",
   "execution_count": 7,
   "id": "ab5c2968-40e4-4bc8-b0ab-c87da1207697",
   "metadata": {},
   "outputs": [],
   "source": [
    "# import\n",
    "import numpy as np"
   ]
  },
  {
   "cell_type": "code",
   "execution_count": 9,
   "id": "fadaca76-5624-44f7-bb28-6c7b24a36729",
   "metadata": {},
   "outputs": [],
   "source": [
    "data = np.random.rand(2, 3, 4)\n",
    "zeroes = np.zeros((2, 2, 2))\n",
    "full = np.full((2, 2, 2), 7)\n",
    "ones = np.ones((2, 2, 2))"
   ]
  },
  {
   "cell_type": "code",
   "execution_count": 11,
   "id": "7123072b-6831-4f68-abd2-4664e2066c86",
   "metadata": {},
   "outputs": [
    {
     "data": {
      "text/plain": [
       "array([[[0.24869916, 0.11146275, 0.57893533, 0.88204557],\n",
       "        [0.13964848, 0.34769891, 0.47972875, 0.72569904],\n",
       "        [0.31674558, 0.32915289, 0.33006246, 0.55700589]],\n",
       "\n",
       "       [[0.99190994, 0.36132791, 0.03716274, 0.52587692],\n",
       "        [0.46604432, 0.89928814, 0.75408954, 0.8611978 ],\n",
       "        [0.88152428, 0.81354588, 0.01916607, 0.04266891]]])"
      ]
     },
     "execution_count": 11,
     "metadata": {},
     "output_type": "execute_result"
    }
   ],
   "source": [
    "data"
   ]
  },
  {
   "cell_type": "code",
   "execution_count": 13,
   "id": "00e14bd7-ad55-43fa-9ea2-6552236ccf4c",
   "metadata": {},
   "outputs": [
    {
     "data": {
      "text/plain": [
       "array([[[0., 0.],\n",
       "        [0., 0.]],\n",
       "\n",
       "       [[0., 0.],\n",
       "        [0., 0.]]])"
      ]
     },
     "execution_count": 13,
     "metadata": {},
     "output_type": "execute_result"
    }
   ],
   "source": [
    "zeroes"
   ]
  },
  {
   "cell_type": "code",
   "execution_count": 15,
   "id": "64ff32cb-10c1-4e37-bb8b-f5f5499b6fe1",
   "metadata": {},
   "outputs": [
    {
     "data": {
      "text/plain": [
       "array([[[7, 7],\n",
       "        [7, 7]],\n",
       "\n",
       "       [[7, 7],\n",
       "        [7, 7]]])"
      ]
     },
     "execution_count": 15,
     "metadata": {},
     "output_type": "execute_result"
    }
   ],
   "source": [
    "full"
   ]
  },
  {
   "cell_type": "code",
   "execution_count": 17,
   "id": "403ae9d2-2755-41d6-83a0-4df35e530c1e",
   "metadata": {},
   "outputs": [
    {
     "data": {
      "text/plain": [
       "array([[[1., 1.],\n",
       "        [1., 1.]],\n",
       "\n",
       "       [[1., 1.],\n",
       "        [1., 1.]]])"
      ]
     },
     "execution_count": 17,
     "metadata": {},
     "output_type": "execute_result"
    }
   ],
   "source": [
    "ones"
   ]
  },
  {
   "cell_type": "code",
   "execution_count": 19,
   "id": "98c0c04d-4b4c-40bf-87d7-0a962ebcd45d",
   "metadata": {},
   "outputs": [],
   "source": [
    "arr = np.array([[1, 2, 3, 4], [1, 2, 3, 4]])"
   ]
  },
  {
   "cell_type": "code",
   "execution_count": 21,
   "id": "4af6bcfc-a379-4595-a3c1-a4bf7c7227f1",
   "metadata": {},
   "outputs": [
    {
     "data": {
      "text/plain": [
       "array([[1, 2, 3, 4],\n",
       "       [1, 2, 3, 4]])"
      ]
     },
     "execution_count": 21,
     "metadata": {},
     "output_type": "execute_result"
    }
   ],
   "source": [
    "arr"
   ]
  },
  {
   "cell_type": "code",
   "execution_count": 23,
   "id": "1cc1ddc4-a47e-4366-828e-c0495397e032",
   "metadata": {},
   "outputs": [
    {
     "data": {
      "text/plain": [
       "numpy.ndarray"
      ]
     },
     "execution_count": 23,
     "metadata": {},
     "output_type": "execute_result"
    }
   ],
   "source": [
    "type(arr)"
   ]
  },
  {
   "cell_type": "code",
   "execution_count": 27,
   "id": "4012cf76-8bab-4392-bce0-dd21c96dcb45",
   "metadata": {},
   "outputs": [],
   "source": [
    "#Attributes to read specific properties of numpy\n",
    "shape = data.shape\n",
    "size = data.size\n",
    "types = data.dtype"
   ]
  },
  {
   "cell_type": "code",
   "execution_count": 29,
   "id": "5f436c59-2914-4490-954f-75bab099420f",
   "metadata": {},
   "outputs": [
    {
     "data": {
      "text/plain": [
       "(2, 3, 4)"
      ]
     },
     "execution_count": 29,
     "metadata": {},
     "output_type": "execute_result"
    }
   ],
   "source": [
    "shape"
   ]
  },
  {
   "cell_type": "code",
   "execution_count": 31,
   "id": "210b4017-eb81-4740-a5cf-b370b670e13c",
   "metadata": {},
   "outputs": [
    {
     "data": {
      "text/plain": [
       "24"
      ]
     },
     "execution_count": 31,
     "metadata": {},
     "output_type": "execute_result"
    }
   ],
   "source": [
    "size"
   ]
  },
  {
   "cell_type": "code",
   "execution_count": 33,
   "id": "a5f2cc49-28e4-4706-b549-fea08957ee28",
   "metadata": {},
   "outputs": [
    {
     "data": {
      "text/plain": [
       "dtype('float64')"
      ]
     },
     "execution_count": 33,
     "metadata": {},
     "output_type": "execute_result"
    }
   ],
   "source": [
    "types"
   ]
  },
  {
   "cell_type": "code",
   "execution_count": 35,
   "id": "be918b6b-b686-4a63-894f-3490402c5f6b",
   "metadata": {},
   "outputs": [],
   "source": [
    "#Slicing\n",
    "arr = data[0]\n",
    "slicer = data[0][0:2]\n",
    "reverse = data[-1]\n",
    "singleval = data[0][0][0]"
   ]
  },
  {
   "cell_type": "code",
   "execution_count": 37,
   "id": "9f11636d-657e-4e99-9f17-6a485299d6b9",
   "metadata": {},
   "outputs": [
    {
     "data": {
      "text/plain": [
       "array([[0.24869916, 0.11146275, 0.57893533, 0.88204557],\n",
       "       [0.13964848, 0.34769891, 0.47972875, 0.72569904],\n",
       "       [0.31674558, 0.32915289, 0.33006246, 0.55700589]])"
      ]
     },
     "execution_count": 37,
     "metadata": {},
     "output_type": "execute_result"
    }
   ],
   "source": [
    "arr"
   ]
  },
  {
   "cell_type": "code",
   "execution_count": 39,
   "id": "712960bc-ce24-4c27-82ca-5462395790a1",
   "metadata": {},
   "outputs": [
    {
     "data": {
      "text/plain": [
       "array([[0.24869916, 0.11146275, 0.57893533, 0.88204557],\n",
       "       [0.13964848, 0.34769891, 0.47972875, 0.72569904]])"
      ]
     },
     "execution_count": 39,
     "metadata": {},
     "output_type": "execute_result"
    }
   ],
   "source": [
    "slicer"
   ]
  },
  {
   "cell_type": "code",
   "execution_count": 41,
   "id": "f7056f3d-2138-4e56-ab44-ce1181284f39",
   "metadata": {},
   "outputs": [
    {
     "data": {
      "text/plain": [
       "array([[0.99190994, 0.36132791, 0.03716274, 0.52587692],\n",
       "       [0.46604432, 0.89928814, 0.75408954, 0.8611978 ],\n",
       "       [0.88152428, 0.81354588, 0.01916607, 0.04266891]])"
      ]
     },
     "execution_count": 41,
     "metadata": {},
     "output_type": "execute_result"
    }
   ],
   "source": [
    "reverse"
   ]
  },
  {
   "cell_type": "code",
   "execution_count": 43,
   "id": "4b4e01f1-46b2-4a9c-b5ff-0a38bde6a3cb",
   "metadata": {},
   "outputs": [
    {
     "data": {
      "text/plain": [
       "0.2486991619491521"
      ]
     },
     "execution_count": 43,
     "metadata": {},
     "output_type": "execute_result"
    }
   ],
   "source": [
    "singleval"
   ]
  },
  {
   "cell_type": "code",
   "execution_count": 45,
   "id": "fb4bbf9c-63b1-47c0-8b7f-bc0f5e012307",
   "metadata": {},
   "outputs": [
    {
     "data": {
      "text/plain": [
       "array([[[0.24869916, 0.11146275, 0.57893533, 0.88204557],\n",
       "        [0.13964848, 0.34769891, 0.47972875, 0.72569904],\n",
       "        [0.31674558, 0.32915289, 0.33006246, 0.55700589]],\n",
       "\n",
       "       [[0.99190994, 0.36132791, 0.03716274, 0.52587692],\n",
       "        [0.46604432, 0.89928814, 0.75408954, 0.8611978 ],\n",
       "        [0.88152428, 0.81354588, 0.01916607, 0.04266891]]])"
      ]
     },
     "execution_count": 45,
     "metadata": {},
     "output_type": "execute_result"
    }
   ],
   "source": [
    "data"
   ]
  },
  {
   "cell_type": "code",
   "execution_count": 47,
   "id": "eae0e585-b6d4-43bc-85bb-bcb3ac2271eb",
   "metadata": {},
   "outputs": [],
   "source": [
    "#Update\n",
    "list1 = np.random.rand(10)\n",
    "list2 = np.random.rand(10)"
   ]
  },
  {
   "cell_type": "code",
   "execution_count": 49,
   "id": "9f4442d6-ed98-437e-9f5e-577981b1197b",
   "metadata": {},
   "outputs": [
    {
     "data": {
      "text/plain": [
       "array([0.62848639, 0.3942802 , 0.57849285, 0.51997774, 0.11543635,\n",
       "       0.73934097, 0.43249082, 0.47263912, 0.21510366, 0.07089914])"
      ]
     },
     "execution_count": 49,
     "metadata": {},
     "output_type": "execute_result"
    }
   ],
   "source": [
    "list1"
   ]
  },
  {
   "cell_type": "code",
   "execution_count": 51,
   "id": "14bc688f-c44a-457c-ae74-6bd75442cc04",
   "metadata": {},
   "outputs": [
    {
     "data": {
      "text/plain": [
       "array([0.18348499, 0.82630385, 0.65631401, 0.53391348, 0.35028188,\n",
       "       0.34452041, 0.80607863, 0.00950503, 0.30721021, 0.48515993])"
      ]
     },
     "execution_count": 51,
     "metadata": {},
     "output_type": "execute_result"
    }
   ],
   "source": [
    "list2"
   ]
  },
  {
   "cell_type": "code",
   "execution_count": 53,
   "id": "9cde863f-98ad-4c4c-b5d3-e1406c21ab30",
   "metadata": {},
   "outputs": [],
   "source": [
    "#Basic Math\n",
    "add = np.add(list1, list2)\n",
    "sub = np.subtract(list1, list2)\n",
    "div = np.divide(list1, list2)\n",
    "mult = np.multiply(list1, list2)\n",
    "dot = np.dot(list1, list2)"
   ]
  },
  {
   "cell_type": "code",
   "execution_count": 67,
   "id": "4ed46143-13fb-4448-8fc0-b242f4d1fc12",
   "metadata": {},
   "outputs": [
    {
     "data": {
      "text/plain": [
       "1.847155985644711"
      ]
     },
     "execution_count": 67,
     "metadata": {},
     "output_type": "execute_result"
    }
   ],
   "source": [
    "#add\n",
    "#sub\n",
    "# div\n",
    "#mult\n",
    "dot"
   ]
  },
  {
   "cell_type": "code",
   "execution_count": 69,
   "id": "f17dbd6e-0445-497b-b855-038f383b410d",
   "metadata": {},
   "outputs": [],
   "source": [
    "#Stat Functions\n",
    "sqrt = np.sqrt(25)\n",
    "ab = np.abs(-2)\n",
    "power = np.power(2, 7)\n",
    "log = np.log(25)\n",
    "exp = np.exp([2, 3])\n",
    "mins = np.min(list1)\n",
    "max = np.max(list1)"
   ]
  },
  {
   "cell_type": "code",
   "execution_count": 85,
   "id": "5028b2de-ed64-4985-8372-a32f23f66c01",
   "metadata": {},
   "outputs": [
    {
     "data": {
      "text/plain": [
       "array([ 7.3890561 , 20.08553692])"
      ]
     },
     "execution_count": 85,
     "metadata": {},
     "output_type": "execute_result"
    }
   ],
   "source": [
    "exp"
   ]
  },
  {
   "cell_type": "code",
   "execution_count": 89,
   "id": "061b2f53-2360-454c-abe4-ae9175f2c042",
   "metadata": {},
   "outputs": [
    {
     "data": {
      "text/plain": [
       "array([[[7.00000000e+02, 1.11462749e-01, 5.78935331e-01, 8.82045574e-01],\n",
       "        [1.39648482e-01, 3.47698912e-01, 4.79728754e-01, 7.25699043e-01],\n",
       "        [3.16745583e-01, 3.29152890e-01, 3.30062457e-01, 5.57005895e-01]],\n",
       "\n",
       "       [[9.91909936e-01, 3.61327905e-01, 3.71627446e-02, 5.25876918e-01],\n",
       "        [4.66044317e-01, 8.99288143e-01, 7.54089540e-01, 8.61197803e-01],\n",
       "        [8.81524285e-01, 8.13545885e-01, 1.91660664e-02, 4.26689064e-02]]])"
      ]
     },
     "execution_count": 89,
     "metadata": {},
     "output_type": "execute_result"
    }
   ],
   "source": [
    "data[0][0][0] = 700\n",
    "data"
   ]
  },
  {
   "cell_type": "code",
   "execution_count": 91,
   "id": "038812b1-ddf5-49cf-a660-6ed1daaf9f33",
   "metadata": {},
   "outputs": [
    {
     "data": {
      "text/plain": [
       "array([[[1.11462749e-01, 5.78935331e-01, 8.82045574e-01, 7.00000000e+02],\n",
       "        [1.39648482e-01, 3.47698912e-01, 4.79728754e-01, 7.25699043e-01],\n",
       "        [3.16745583e-01, 3.29152890e-01, 3.30062457e-01, 5.57005895e-01]],\n",
       "\n",
       "       [[3.71627446e-02, 3.61327905e-01, 5.25876918e-01, 9.91909936e-01],\n",
       "        [4.66044317e-01, 7.54089540e-01, 8.61197803e-01, 8.99288143e-01],\n",
       "        [1.91660664e-02, 4.26689064e-02, 8.13545885e-01, 8.81524285e-01]]])"
      ]
     },
     "execution_count": 91,
     "metadata": {},
     "output_type": "execute_result"
    }
   ],
   "source": [
    "data.sort()\n",
    "data"
   ]
  },
  {
   "cell_type": "code",
   "execution_count": 93,
   "id": "372bd1bd-efd0-4a65-87e9-ef0516477829",
   "metadata": {},
   "outputs": [
    {
     "name": "stdout",
     "output_type": "stream",
     "text": [
      "(2, 3, 4)\n"
     ]
    }
   ],
   "source": [
    "print(data.shape)"
   ]
  },
  {
   "cell_type": "code",
   "execution_count": 95,
   "id": "ebf17ab8-92fa-4cef-8c7d-cb4436ee7896",
   "metadata": {},
   "outputs": [
    {
     "data": {
      "text/plain": [
       "(2, 2, 6)"
      ]
     },
     "execution_count": 95,
     "metadata": {},
     "output_type": "execute_result"
    }
   ],
   "source": [
    "data = data.reshape(2, 2, -1)\n",
    "data.shape"
   ]
  },
  {
   "cell_type": "code",
   "execution_count": 97,
   "id": "3d015799-4535-4d00-9309-34f87a18c673",
   "metadata": {},
   "outputs": [
    {
     "name": "stdout",
     "output_type": "stream",
     "text": [
      "[0. 0. 0. 0. 0. 0. 0. 0.]\n",
      "[0. 0. 0. 0. 0. 0. 0. 0. 3. 4.]\n"
     ]
    }
   ],
   "source": [
    "#Append and Insert\n",
    "zeroes = np.zeros((8))\n",
    "print(zeroes)\n",
    "zeroes = np.append(zeroes, [3,4])\n",
    "print(zeroes)"
   ]
  },
  {
   "cell_type": "code",
   "execution_count": 99,
   "id": "9301f08a-2ec6-4813-80eb-da0fd126eef4",
   "metadata": {},
   "outputs": [
    {
     "name": "stdout",
     "output_type": "stream",
     "text": [
      "[0. 0. 1. 0. 0. 0. 0. 0. 0. 3. 4.]\n"
     ]
    }
   ],
   "source": [
    "zeroes = np.insert(zeroes, 2, 1)\n",
    "print(zeroes)"
   ]
  },
  {
   "cell_type": "code",
   "execution_count": 101,
   "id": "93d31194-6078-45bc-94b4-0ee9a07329b0",
   "metadata": {},
   "outputs": [
    {
     "data": {
      "text/plain": [
       "array([[[0.47972875, 0.72569904, 0.31674558, 0.32915289, 0.33006246,\n",
       "         0.55700589]],\n",
       "\n",
       "       [[0.8611978 , 0.89928814, 0.01916607, 0.04266891, 0.81354588,\n",
       "         0.88152428]]])"
      ]
     },
     "execution_count": 101,
     "metadata": {},
     "output_type": "execute_result"
    }
   ],
   "source": [
    "#Delete\n",
    "np.delete(data, 0, axis= 1)"
   ]
  },
  {
   "cell_type": "code",
   "execution_count": 103,
   "id": "c2449060-2ba2-42fb-be79-e5dfe2b1dd46",
   "metadata": {},
   "outputs": [],
   "source": [
    "np.save(\"new array\", data)"
   ]
  },
  {
   "cell_type": "code",
   "execution_count": 105,
   "id": "2e336ef2-6470-497c-8107-f28cf5ec81f5",
   "metadata": {},
   "outputs": [
    {
     "data": {
      "text/plain": [
       "array([[[1.11462749e-01, 5.78935331e-01, 8.82045574e-01, 7.00000000e+02,\n",
       "         1.39648482e-01, 3.47698912e-01],\n",
       "        [4.79728754e-01, 7.25699043e-01, 3.16745583e-01, 3.29152890e-01,\n",
       "         3.30062457e-01, 5.57005895e-01]],\n",
       "\n",
       "       [[3.71627446e-02, 3.61327905e-01, 5.25876918e-01, 9.91909936e-01,\n",
       "         4.66044317e-01, 7.54089540e-01],\n",
       "        [8.61197803e-01, 8.99288143e-01, 1.91660664e-02, 4.26689064e-02,\n",
       "         8.13545885e-01, 8.81524285e-01]]])"
      ]
     },
     "execution_count": 105,
     "metadata": {},
     "output_type": "execute_result"
    }
   ],
   "source": [
    "test = np.load(\"new array.npy\")\n",
    "test"
   ]
  },
  {
   "cell_type": "code",
   "execution_count": null,
   "id": "57554a09-57f5-4400-8994-33612f70b921",
   "metadata": {},
   "outputs": [],
   "source": []
  }
 ],
 "metadata": {
  "kernelspec": {
   "display_name": "Python 3 (ipykernel)",
   "language": "python",
   "name": "python3"
  },
  "language_info": {
   "codemirror_mode": {
    "name": "ipython",
    "version": 3
   },
   "file_extension": ".py",
   "mimetype": "text/x-python",
   "name": "python",
   "nbconvert_exporter": "python",
   "pygments_lexer": "ipython3",
   "version": "3.12.4"
  }
 },
 "nbformat": 4,
 "nbformat_minor": 5
}
